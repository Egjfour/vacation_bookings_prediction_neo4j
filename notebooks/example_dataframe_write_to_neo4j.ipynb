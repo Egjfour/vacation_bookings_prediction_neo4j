{
 "cells": [
  {
   "cell_type": "markdown",
   "metadata": {},
   "source": [
    "Based off the resource at https://neo4j.com/docs/graph-data-science-client/current/tutorials/load-data-via-graph-construction/"
   ]
  },
  {
   "cell_type": "code",
   "execution_count": 54,
   "metadata": {},
   "outputs": [],
   "source": [
    "import pandas as pd\n",
    "import numpy as np\n",
    "from graphdatascience import GraphDataScience # Load neo4j graph data science library\n",
    "import os\n",
    "if os.getcwd().split('\\\\')[-1] == 'notebooks':\n",
    "    os.chdir('..')"
   ]
  },
  {
   "cell_type": "code",
   "execution_count": 15,
   "metadata": {},
   "outputs": [],
   "source": [
    "# Connect to a Neo4j instance (assumes local right now)\n",
    "NEO4J_URI = os.environ.get(\"NEO4J_URI\", \"bolt://localhost:7687\")\n",
    "NEO4J_AUTH = None\n",
    "NEO4J_DB = os.environ.get(\"NEO4J_DB\", \"neo4j\")\n",
    "if os.environ.get(\"NEO4J_USER\") and os.environ.get(\"NEO4J_PASSWORD\"):\n",
    "    NEO4J_AUTH = (\n",
    "        os.environ.get(\"NEO4J_USER\"),\n",
    "        os.environ.get(\"NEO4J_PASSWORD\"),\n",
    "    )\n",
    "else:\n",
    "    NEO4J_AUTH = (\"neo4j\", \"Bookings\")\n",
    "gds = GraphDataScience(NEO4J_URI, auth=NEO4J_AUTH, database=NEO4J_DB)"
   ]
  },
  {
   "cell_type": "code",
   "execution_count": 90,
   "metadata": {},
   "outputs": [],
   "source": [
    "# Load the data\n",
    "properties = pd.read_csv(\"Inputs/property_data.csv\")\n",
    "bookings = pd.read_csv(\"Inputs/bookings_data.csv\")"
   ]
  },
  {
   "cell_type": "code",
   "execution_count": 94,
   "metadata": {},
   "outputs": [
    {
     "data": {
      "text/html": [
       "<div>\n",
       "<style scoped>\n",
       "    .dataframe tbody tr th:only-of-type {\n",
       "        vertical-align: middle;\n",
       "    }\n",
       "\n",
       "    .dataframe tbody tr th {\n",
       "        vertical-align: top;\n",
       "    }\n",
       "\n",
       "    .dataframe thead th {\n",
       "        text-align: right;\n",
       "    }\n",
       "</style>\n",
       "<table border=\"1\" class=\"dataframe\">\n",
       "  <thead>\n",
       "    <tr style=\"text-align: right;\">\n",
       "      <th></th>\n",
       "    </tr>\n",
       "  </thead>\n",
       "  <tbody>\n",
       "  </tbody>\n",
       "</table>\n",
       "</div>"
      ],
      "text/plain": [
       "Empty DataFrame\n",
       "Columns: []\n",
       "Index: []"
      ]
     },
     "execution_count": 94,
     "metadata": {},
     "output_type": "execute_result"
    }
   ],
   "source": [
    "# Start with a fresh database\n",
    "gds.run_cypher(\"MATCH (n) DETACH DELETE n\")\n",
    "\n",
    "# Create Database Constraints\n",
    "gds.run_cypher(\"\"\"\n",
    "CREATE CONSTRAINT unique_properties IF NOT EXISTS\n",
    "FOR (p:Property) REQUIRE p.id IS UNIQUE\n",
    "\"\"\")\n",
    "\n",
    "gds.run_cypher(\"\"\"\n",
    "CREATE CONSTRAINT unique_countries IF NOT EXISTS\n",
    "FOR (c:Country) REQUIRE c.name IS UNIQUE\n",
    "\"\"\")\n",
    "\n",
    "gds.run_cypher(\"\"\"\n",
    "CREATE CONSTRAINT unique_cities IF NOT EXISTS\n",
    "FOR (c:City) REQUIRE c.name IS UNIQUE\n",
    "\"\"\")\n",
    "\n",
    "gds.run_cypher(\"\"\"\n",
    "CREATE CONSTRAINT unique_property_types IF NOT EXISTS\n",
    "FOR (t:Type) REQUIRE t.type IS UNIQUE\n",
    "\"\"\")"
   ]
  },
  {
   "cell_type": "code",
   "execution_count": 104,
   "metadata": {},
   "outputs": [],
   "source": [
    "property_data_dict = {\"properties\": properties.to_dict('records')}"
   ]
  },
  {
   "cell_type": "code",
   "execution_count": 105,
   "metadata": {},
   "outputs": [],
   "source": [
    "property_setup_query = \"\"\"\n",
    "UNWIND $properties AS property\n",
    "MERGE (p:Property {id: property.id})\n",
    "SET p.capacity = property.capacity\n",
    "SET p.pets_allowed = property.pets_allowed\n",
    "MERGE (t:Type {name: property.property_type})\n",
    "MERGE (ct:City {name: property.city})\n",
    "MERGE (c:Country {name: property.country})\n",
    "MERGE (p)-[:LOCATED_IN]->(ct)\n",
    "MERGE (ct)-[:LOCATED_IN]->(c)\n",
    "MERGE (p)-[:HAS_TYPE]->(t)\n",
    "\"\"\""
   ]
  },
  {
   "cell_type": "code",
   "execution_count": 106,
   "metadata": {},
   "outputs": [
    {
     "data": {
      "text/html": [
       "<div>\n",
       "<style scoped>\n",
       "    .dataframe tbody tr th:only-of-type {\n",
       "        vertical-align: middle;\n",
       "    }\n",
       "\n",
       "    .dataframe tbody tr th {\n",
       "        vertical-align: top;\n",
       "    }\n",
       "\n",
       "    .dataframe thead th {\n",
       "        text-align: right;\n",
       "    }\n",
       "</style>\n",
       "<table border=\"1\" class=\"dataframe\">\n",
       "  <thead>\n",
       "    <tr style=\"text-align: right;\">\n",
       "      <th></th>\n",
       "    </tr>\n",
       "  </thead>\n",
       "  <tbody>\n",
       "  </tbody>\n",
       "</table>\n",
       "</div>"
      ],
      "text/plain": [
       "Empty DataFrame\n",
       "Columns: []\n",
       "Index: []"
      ]
     },
     "execution_count": 106,
     "metadata": {},
     "output_type": "execute_result"
    }
   ],
   "source": [
    "gds.run_cypher(property_setup_query, property_data_dict)"
   ]
  },
  {
   "cell_type": "code",
   "execution_count": 107,
   "metadata": {},
   "outputs": [
    {
     "data": {
      "text/html": [
       "<div>\n",
       "<style scoped>\n",
       "    .dataframe tbody tr th:only-of-type {\n",
       "        vertical-align: middle;\n",
       "    }\n",
       "\n",
       "    .dataframe tbody tr th {\n",
       "        vertical-align: top;\n",
       "    }\n",
       "\n",
       "    .dataframe thead th {\n",
       "        text-align: right;\n",
       "    }\n",
       "</style>\n",
       "<table border=\"1\" class=\"dataframe\">\n",
       "  <thead>\n",
       "    <tr style=\"text-align: right;\">\n",
       "      <th></th>\n",
       "      <th>property_type</th>\n",
       "      <th>country</th>\n",
       "      <th>city</th>\n",
       "      <th>capacity</th>\n",
       "      <th>pets_allowed</th>\n",
       "      <th>id</th>\n",
       "    </tr>\n",
       "  </thead>\n",
       "  <tbody>\n",
       "    <tr>\n",
       "      <th>0</th>\n",
       "      <td>condo</td>\n",
       "      <td>ITALY</td>\n",
       "      <td>Naples</td>\n",
       "      <td>6</td>\n",
       "      <td>yes</td>\n",
       "      <td>0</td>\n",
       "    </tr>\n",
       "    <tr>\n",
       "      <th>1</th>\n",
       "      <td>condo</td>\n",
       "      <td>ITALY</td>\n",
       "      <td>Naples</td>\n",
       "      <td>6</td>\n",
       "      <td>yes</td>\n",
       "      <td>1</td>\n",
       "    </tr>\n",
       "    <tr>\n",
       "      <th>2</th>\n",
       "      <td>apartment</td>\n",
       "      <td>FRANCE</td>\n",
       "      <td>Rouen</td>\n",
       "      <td>6</td>\n",
       "      <td>no</td>\n",
       "      <td>2</td>\n",
       "    </tr>\n",
       "    <tr>\n",
       "      <th>3</th>\n",
       "      <td>house</td>\n",
       "      <td>SPAIN</td>\n",
       "      <td>Madrid</td>\n",
       "      <td>8</td>\n",
       "      <td>no</td>\n",
       "      <td>3</td>\n",
       "    </tr>\n",
       "    <tr>\n",
       "      <th>4</th>\n",
       "      <td>condo</td>\n",
       "      <td>ITALY</td>\n",
       "      <td>Rome</td>\n",
       "      <td>6</td>\n",
       "      <td>yes</td>\n",
       "      <td>4</td>\n",
       "    </tr>\n",
       "    <tr>\n",
       "      <th>...</th>\n",
       "      <td>...</td>\n",
       "      <td>...</td>\n",
       "      <td>...</td>\n",
       "      <td>...</td>\n",
       "      <td>...</td>\n",
       "      <td>...</td>\n",
       "    </tr>\n",
       "    <tr>\n",
       "      <th>995</th>\n",
       "      <td>condo</td>\n",
       "      <td>BELGIUM</td>\n",
       "      <td>Ghent</td>\n",
       "      <td>4</td>\n",
       "      <td>no</td>\n",
       "      <td>995</td>\n",
       "    </tr>\n",
       "    <tr>\n",
       "      <th>996</th>\n",
       "      <td>condo</td>\n",
       "      <td>FRANCE</td>\n",
       "      <td>Rouen</td>\n",
       "      <td>6</td>\n",
       "      <td>yes</td>\n",
       "      <td>996</td>\n",
       "    </tr>\n",
       "    <tr>\n",
       "      <th>997</th>\n",
       "      <td>apartment</td>\n",
       "      <td>FRANCE</td>\n",
       "      <td>Lyon</td>\n",
       "      <td>8</td>\n",
       "      <td>yes</td>\n",
       "      <td>997</td>\n",
       "    </tr>\n",
       "    <tr>\n",
       "      <th>998</th>\n",
       "      <td>apartment</td>\n",
       "      <td>ITALY</td>\n",
       "      <td>Rome</td>\n",
       "      <td>9</td>\n",
       "      <td>no</td>\n",
       "      <td>998</td>\n",
       "    </tr>\n",
       "    <tr>\n",
       "      <th>999</th>\n",
       "      <td>condo</td>\n",
       "      <td>BELGIUM</td>\n",
       "      <td>Antwerp</td>\n",
       "      <td>6</td>\n",
       "      <td>yes</td>\n",
       "      <td>999</td>\n",
       "    </tr>\n",
       "  </tbody>\n",
       "</table>\n",
       "<p>1000 rows × 6 columns</p>\n",
       "</div>"
      ],
      "text/plain": [
       "    property_type  country     city  capacity pets_allowed   id\n",
       "0           condo    ITALY   Naples         6          yes    0\n",
       "1           condo    ITALY   Naples         6          yes    1\n",
       "2       apartment   FRANCE    Rouen         6           no    2\n",
       "3           house    SPAIN   Madrid         8           no    3\n",
       "4           condo    ITALY     Rome         6          yes    4\n",
       "..            ...      ...      ...       ...          ...  ...\n",
       "995         condo  BELGIUM    Ghent         4           no  995\n",
       "996         condo   FRANCE    Rouen         6          yes  996\n",
       "997     apartment   FRANCE     Lyon         8          yes  997\n",
       "998     apartment    ITALY     Rome         9           no  998\n",
       "999         condo  BELGIUM  Antwerp         6          yes  999\n",
       "\n",
       "[1000 rows x 6 columns]"
      ]
     },
     "execution_count": 107,
     "metadata": {},
     "output_type": "execute_result"
    }
   ],
   "source": [
    "properties"
   ]
  },
  {
   "cell_type": "code",
   "execution_count": null,
   "metadata": {},
   "outputs": [],
   "source": []
  }
 ],
 "metadata": {
  "kernelspec": {
   "display_name": ".venv",
   "language": "python",
   "name": "python3"
  },
  "language_info": {
   "codemirror_mode": {
    "name": "ipython",
    "version": 3
   },
   "file_extension": ".py",
   "mimetype": "text/x-python",
   "name": "python",
   "nbconvert_exporter": "python",
   "pygments_lexer": "ipython3",
   "version": "3.11.9"
  }
 },
 "nbformat": 4,
 "nbformat_minor": 2
}

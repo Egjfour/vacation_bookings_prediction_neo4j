{
 "cells": [
  {
   "cell_type": "code",
   "execution_count": 169,
   "metadata": {},
   "outputs": [],
   "source": [
    "import pandas as pd\n",
    "import numpy as np\n",
    "from graphdatascience import GraphDataScience # Load neo4j graph data science library\n",
    "import os\n",
    "\n",
    "if os.getcwd().split('\\\\')[-1] == 'notebooks':\n",
    "    os.chdir('..')"
   ]
  },
  {
   "cell_type": "code",
   "execution_count": 74,
   "metadata": {},
   "outputs": [],
   "source": [
    "# Connect to a Neo4j instance (assumes local right now)\n",
    "NEO4J_URI = os.environ.get(\"NEO4J_URI\", \"bolt://localhost:7687\")\n",
    "NEO4J_AUTH = None\n",
    "NEO4J_DB = os.environ.get(\"NEO4J_DB\", \"neo4j\")\n",
    "if os.environ.get(\"NEO4J_USER\") and os.environ.get(\"NEO4J_PASSWORD\"):\n",
    "    NEO4J_AUTH = (\n",
    "        os.environ.get(\"NEO4J_USER\"),\n",
    "        os.environ.get(\"NEO4J_PASSWORD\"),\n",
    "    )\n",
    "else:\n",
    "    NEO4J_AUTH = (\"neo4j\", \"Bookings\")\n",
    "gds = GraphDataScience(NEO4J_URI, auth=NEO4J_AUTH, database=NEO4J_DB)"
   ]
  },
  {
   "cell_type": "code",
   "execution_count": 76,
   "metadata": {},
   "outputs": [
    {
     "data": {
      "text/plain": [
       "nodeCount                                                             1019\n",
       "nodePropertiesWritten                                                 1019\n",
       "preProcessingMillis                                                      0\n",
       "computeMillis                                                            6\n",
       "writeMillis                                                              8\n",
       "configuration            {'writeProperty': 'property_embedding', 'jobId...\n",
       "Name: 0, dtype: object"
      ]
     },
     "execution_count": 76,
     "metadata": {},
     "output_type": "execute_result"
    }
   ],
   "source": [
    "# Embedding dimension for properties\n",
    "# Get the projection\n",
    "if 'properties-embedding' in gds.graph.list().graphName.values:\n",
    "    gds.graph.drop(\"properties-embedding\")\n",
    "\n",
    "# We can embed all property information since that is not what we're trying to predict\n",
    "gds.graph.project(\"properties-embedding\",\n",
    "                  node_spec=['Property', 'City', 'Country', 'Type'],\n",
    "                  relationship_spec=['LOCATED_IN', 'HAS_TYPE'])\n",
    "\n",
    "\n",
    "# Run the FastRP algorithm to generate embeddings\n",
    "gds.fastRP.write(\n",
    "    gds.graph.get(\"properties-embedding\"),\n",
    "    embeddingDimension = 64,\n",
    "    writeProperty = \"property_embedding\"\n",
    ")"
   ]
  },
  {
   "cell_type": "code",
   "execution_count": 77,
   "metadata": {},
   "outputs": [
    {
     "data": {
      "text/html": [
       "<div>\n",
       "<style scoped>\n",
       "    .dataframe tbody tr th:only-of-type {\n",
       "        vertical-align: middle;\n",
       "    }\n",
       "\n",
       "    .dataframe tbody tr th {\n",
       "        vertical-align: top;\n",
       "    }\n",
       "\n",
       "    .dataframe thead th {\n",
       "        text-align: right;\n",
       "    }\n",
       "</style>\n",
       "<table border=\"1\" class=\"dataframe\">\n",
       "  <thead>\n",
       "    <tr style=\"text-align: right;\">\n",
       "      <th></th>\n",
       "      <th>p.id</th>\n",
       "      <th>p.property_embedding</th>\n",
       "    </tr>\n",
       "  </thead>\n",
       "  <tbody>\n",
       "    <tr>\n",
       "      <th>0</th>\n",
       "      <td>0</td>\n",
       "      <td>[0.0, 0.0, 0.0, 0.22360679507255554, -0.223606...</td>\n",
       "    </tr>\n",
       "    <tr>\n",
       "      <th>1</th>\n",
       "      <td>1</td>\n",
       "      <td>[0.0, 0.0, 0.0, 0.22360679507255554, -0.223606...</td>\n",
       "    </tr>\n",
       "    <tr>\n",
       "      <th>2</th>\n",
       "      <td>2</td>\n",
       "      <td>[0.0, 0.2357022613286972, 0.0, 0.0, 0.23570226...</td>\n",
       "    </tr>\n",
       "    <tr>\n",
       "      <th>3</th>\n",
       "      <td>3</td>\n",
       "      <td>[0.0, 0.0, 0.0, 0.0, 0.0, 0.0, 0.2236067950725...</td>\n",
       "    </tr>\n",
       "    <tr>\n",
       "      <th>4</th>\n",
       "      <td>4</td>\n",
       "      <td>[0.0, 0.0, 0.0, 0.22360679507255554, -0.223606...</td>\n",
       "    </tr>\n",
       "  </tbody>\n",
       "</table>\n",
       "</div>"
      ],
      "text/plain": [
       "   p.id                               p.property_embedding\n",
       "0     0  [0.0, 0.0, 0.0, 0.22360679507255554, -0.223606...\n",
       "1     1  [0.0, 0.0, 0.0, 0.22360679507255554, -0.223606...\n",
       "2     2  [0.0, 0.2357022613286972, 0.0, 0.0, 0.23570226...\n",
       "3     3  [0.0, 0.0, 0.0, 0.0, 0.0, 0.0, 0.2236067950725...\n",
       "4     4  [0.0, 0.0, 0.0, 0.22360679507255554, -0.223606..."
      ]
     },
     "execution_count": 77,
     "metadata": {},
     "output_type": "execute_result"
    }
   ],
   "source": [
    "# Look at the embedding outputs\n",
    "gds.run_cypher(\"MATCH (p:Property) RETURN p.id, p.property_embedding LIMIT 5\")"
   ]
  },
  {
   "cell_type": "code",
   "execution_count": 140,
   "metadata": {},
   "outputs": [
    {
     "data": {
      "text/plain": [
       "nodePropertiesWritten                                                  1052\n",
       "writeMillis                                                              15\n",
       "centralityDistribution    {'min': 0.0, 'max': 508.00195312499994, 'p90':...\n",
       "postProcessingMillis                                                     16\n",
       "preProcessingMillis                                                       0\n",
       "computeMillis                                                             0\n",
       "configuration             {'writeProperty': 'week_degree', 'orientation'...\n",
       "Name: 0, dtype: object"
      ]
     },
     "execution_count": 140,
     "metadata": {},
     "output_type": "execute_result"
    }
   ],
   "source": [
    "# Week Degree Centrality\n",
    "if 'week-degree' in gds.graph.list().graphName.values:\n",
    "    gds.graph.drop(\"week-degree\")\n",
    "\n",
    "gds.graph.project(\"week-degree\",\n",
    "                  node_spec=[\"Property\", \"Week\"],\n",
    "                  relationship_spec={\n",
    "                      \"TRAIN_BOOKING\":{\"orientation\":\"REVERSE\"}, # Reverse because the gds implementation only looks at outgoing relationships\n",
    "                  })\n",
    "\n",
    "gds.degree.write(\n",
    "    gds.graph.get(\"week-degree\"),\n",
    "    relationshipTypes=[\"TRAIN_BOOKING\"],\n",
    "    writeProperty=\"week_degree\"\n",
    ")"
   ]
  },
  {
   "cell_type": "code",
   "execution_count": 141,
   "metadata": {},
   "outputs": [
    {
     "data": {
      "text/plain": [
       "<Axes: xlabel='w.week_num'>"
      ]
     },
     "execution_count": 141,
     "metadata": {},
     "output_type": "execute_result"
    },
    {
     "data": {
      "image/png": "[encoded data removed]",
      "text/plain": [
       "<Figure size 640x480 with 1 Axes>"
      ]
     },
     "metadata": {},
     "output_type": "display_data"
    }
   ],
   "source": [
    "bookings_by_week = gds.run_cypher(\"\"\"\n",
    "MATCH(w:Week)\n",
    "RETURN w.week_num, w.week_degree\n",
    "\"\"\").sort_values(\"w.week_num\")\n",
    "\n",
    "bookings_by_week.plot(x=\"w.week_num\", y=\"w.week_degree\", kind=\"line\")"
   ]
  },
  {
   "cell_type": "code",
   "execution_count": 170,
   "metadata": {},
   "outputs": [
    {
     "data": {
      "text/html": [
       "<div>\n",
       "<style scoped>\n",
       "    .dataframe tbody tr th:only-of-type {\n",
       "        vertical-align: middle;\n",
       "    }\n",
       "\n",
       "    .dataframe tbody tr th {\n",
       "        vertical-align: top;\n",
       "    }\n",
       "\n",
       "    .dataframe thead th {\n",
       "        text-align: right;\n",
       "    }\n",
       "</style>\n",
       "<table border=\"1\" class=\"dataframe\">\n",
       "  <thead>\n",
       "    <tr style=\"text-align: right;\">\n",
       "      <th></th>\n",
       "      <th>city</th>\n",
       "      <th>week_num</th>\n",
       "      <th>city_week_pref_attachment</th>\n",
       "    </tr>\n",
       "  </thead>\n",
       "  <tbody>\n",
       "    <tr>\n",
       "      <th>0</th>\n",
       "      <td>Antwerp</td>\n",
       "      <td>1</td>\n",
       "      <td>184426.0</td>\n",
       "    </tr>\n",
       "    <tr>\n",
       "      <th>1</th>\n",
       "      <td>Antwerp</td>\n",
       "      <td>2</td>\n",
       "      <td>184426.0</td>\n",
       "    </tr>\n",
       "    <tr>\n",
       "      <th>2</th>\n",
       "      <td>Antwerp</td>\n",
       "      <td>3</td>\n",
       "      <td>184426.0</td>\n",
       "    </tr>\n",
       "    <tr>\n",
       "      <th>3</th>\n",
       "      <td>Antwerp</td>\n",
       "      <td>4</td>\n",
       "      <td>184426.0</td>\n",
       "    </tr>\n",
       "    <tr>\n",
       "      <th>4</th>\n",
       "      <td>Antwerp</td>\n",
       "      <td>5</td>\n",
       "      <td>184426.0</td>\n",
       "    </tr>\n",
       "    <tr>\n",
       "      <th>...</th>\n",
       "      <td>...</td>\n",
       "      <td>...</td>\n",
       "      <td>...</td>\n",
       "    </tr>\n",
       "    <tr>\n",
       "      <th>567</th>\n",
       "      <td>Rome</td>\n",
       "      <td>48</td>\n",
       "      <td>32904.0</td>\n",
       "    </tr>\n",
       "    <tr>\n",
       "      <th>568</th>\n",
       "      <td>Rome</td>\n",
       "      <td>49</td>\n",
       "      <td>31104.0</td>\n",
       "    </tr>\n",
       "    <tr>\n",
       "      <th>569</th>\n",
       "      <td>Rome</td>\n",
       "      <td>50</td>\n",
       "      <td>31392.0</td>\n",
       "    </tr>\n",
       "    <tr>\n",
       "      <th>570</th>\n",
       "      <td>Rome</td>\n",
       "      <td>51</td>\n",
       "      <td>29736.0</td>\n",
       "    </tr>\n",
       "    <tr>\n",
       "      <th>571</th>\n",
       "      <td>Rome</td>\n",
       "      <td>52</td>\n",
       "      <td>33912.0</td>\n",
       "    </tr>\n",
       "  </tbody>\n",
       "</table>\n",
       "<p>572 rows × 3 columns</p>\n",
       "</div>"
      ],
      "text/plain": [
       "        city  week_num  city_week_pref_attachment\n",
       "0    Antwerp         1                   184426.0\n",
       "1    Antwerp         2                   184426.0\n",
       "2    Antwerp         3                   184426.0\n",
       "3    Antwerp         4                   184426.0\n",
       "4    Antwerp         5                   184426.0\n",
       "..       ...       ...                        ...\n",
       "567     Rome        48                    32904.0\n",
       "568     Rome        49                    31104.0\n",
       "569     Rome        50                    31392.0\n",
       "570     Rome        51                    29736.0\n",
       "571     Rome        52                    33912.0\n",
       "\n",
       "[572 rows x 3 columns]"
      ]
     },
     "execution_count": 170,
     "metadata": {},
     "output_type": "execute_result"
    }
   ],
   "source": [
    "# Need to do link prediction within individual queries -- DO THIS ON THE TRAIN DATA ONLY OR THERE WILL BE DATA LEAKAGE\n",
    "city_week_pref_attachment = gds.run_cypher(\"\"\"\n",
    "MATCH (w:Week)<-[:TRAIN_BOOKING]-(p:Property)-[:LOCATED_IN]-> (c:City)\n",
    "RETURN DISTINCT c.name AS city, w.week_num AS week_num, gds.alpha.linkprediction.preferentialAttachment(c, w) as city_week_pref_attachment\n",
    "ORDER BY city, week_num\n",
    "\"\"\")\n",
    "\n",
    "cities = city_week_pref_attachment[['city']].drop_duplicates()\n",
    "week_nums = pd.DataFrame({\"week_num\": list(range(1, 53))})\n",
    "\n",
    "# Fill in missing weeks with the minimum attachment value for that city\n",
    "city_week_pref_attachment = (\n",
    "    pd.merge(cities, week_nums, how=\"cross\")\n",
    "    .merge(city_week_pref_attachment, how=\"left\", on=[\"city\", \"week_num\"])\n",
    "    .sort_values([\"city\", 'week_num'], ascending=True)\n",
    "    .merge(city_week_pref_attachment.groupby(\"city\", as_index=False).agg(min_week_pref_attach=(\"city_week_pref_attachment\", \"min\")), on=\"city\", how=\"left\")\n",
    "    .assign(city_week_pref_attachment=lambda x: np.where(x.city_week_pref_attachment.isna(), x.min_week_pref_attach, x.city_week_pref_attachment))\n",
    "    .drop(columns=[\"min_week_pref_attach\"])\n",
    ")\n",
    "\n",
    "city_week_pref_attachment.to_csv(\"Inputs/city_week_pref_attachment.csv\", index=False)\n",
    "\n",
    "city_week_pref_attachment"
   ]
  },
  {
   "cell_type": "code",
   "execution_count": null,
   "metadata": {},
   "outputs": [],
   "source": []
  },
  {
   "cell_type": "code",
   "execution_count": null,
   "metadata": {},
   "outputs": [],
   "source": []
  },
  {
   "cell_type": "code",
   "execution_count": null,
   "metadata": {},
   "outputs": [],
   "source": []
  },
  {
   "cell_type": "code",
   "execution_count": null,
   "metadata": {},
   "outputs": [],
   "source": []
  },
  {
   "cell_type": "code",
   "execution_count": null,
   "metadata": {},
   "outputs": [],
   "source": []
  }
 ],
 "metadata": {
  "kernelspec": {
   "display_name": ".venv",
   "language": "python",
   "name": "python3"
  },
  "language_info": {
   "codemirror_mode": {
    "name": "ipython",
    "version": 3
   },
   "file_extension": ".py",
   "mimetype": "text/x-python",
   "name": "python",
   "nbconvert_exporter": "python",
   "pygments_lexer": "ipython3",
   "version": "3.11.9"
  }
 },
 "nbformat": 4,
 "nbformat_minor": 2
}

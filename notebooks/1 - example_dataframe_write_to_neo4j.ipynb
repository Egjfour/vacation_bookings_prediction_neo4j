{
 "cells": [
  {
   "cell_type": "markdown",
   "metadata": {},
   "source": [
    "Based off the resource at https://neo4j.com/docs/graph-data-science-client/current/tutorials/load-data-via-graph-construction/"
   ]
  },
  {
   "cell_type": "code",
   "execution_count": 2,
   "metadata": {},
   "outputs": [],
   "source": [
    "import pandas as pd\n",
    "import numpy as np\n",
    "from graphdatascience import GraphDataScience # Load neo4j graph data science library\n",
    "import os\n",
    "if os.getcwd().split('\\\\')[-1] == 'notebooks':\n",
    "    os.chdir('..')"
   ]
  },
  {
   "cell_type": "code",
   "execution_count": 3,
   "metadata": {},
   "outputs": [],
   "source": [
    "# Connect to a Neo4j instance (assumes local right now)\n",
    "NEO4J_URI = os.environ.get(\"NEO4J_URI\", \"bolt://localhost:7687\")\n",
    "NEO4J_AUTH = None\n",
    "NEO4J_DB = os.environ.get(\"NEO4J_DB\", \"neo4j\")\n",
    "if os.environ.get(\"NEO4J_USER\") and os.environ.get(\"NEO4J_PASSWORD\"):\n",
    "    NEO4J_AUTH = (\n",
    "        os.environ.get(\"NEO4J_USER\"),\n",
    "        os.environ.get(\"NEO4J_PASSWORD\"),\n",
    "    )\n",
    "else:\n",
    "    NEO4J_AUTH = (\"neo4j\", \"Bookings\")\n",
    "gds = GraphDataScience(NEO4J_URI, auth=NEO4J_AUTH, database=NEO4J_DB)"
   ]
  },
  {
   "cell_type": "code",
   "execution_count": 90,
   "metadata": {},
   "outputs": [],
   "source": [
    "# Load the data\n",
    "properties = pd.read_csv(\"Inputs/property_data.csv\")\n",
    "bookings = pd.read_csv(\"Inputs/bookings_data.csv\")"
   ]
  },
  {
   "cell_type": "code",
   "execution_count": 94,
   "metadata": {},
   "outputs": [
    {
     "data": {
      "text/html": [
       "<div>\n",
       "<style scoped>\n",
       "    .dataframe tbody tr th:only-of-type {\n",
       "        vertical-align: middle;\n",
       "    }\n",
       "\n",
       "    .dataframe tbody tr th {\n",
       "        vertical-align: top;\n",
       "    }\n",
       "\n",
       "    .dataframe thead th {\n",
       "        text-align: right;\n",
       "    }\n",
       "</style>\n",
       "<table border=\"1\" class=\"dataframe\">\n",
       "  <thead>\n",
       "    <tr style=\"text-align: right;\">\n",
       "      <th></th>\n",
       "    </tr>\n",
       "  </thead>\n",
       "  <tbody>\n",
       "  </tbody>\n",
       "</table>\n",
       "</div>"
      ],
      "text/plain": [
       "Empty DataFrame\n",
       "Columns: []\n",
       "Index: []"
      ]
     },
     "execution_count": 94,
     "metadata": {},
     "output_type": "execute_result"
    }
   ],
   "source": [
    "# Start with a fresh database\n",
    "gds.run_cypher(\"MATCH (n) DETACH DELETE n\")\n",
    "\n",
    "# Create Database Constraints for uniqueness to make sure we load properly\n",
    "gds.run_cypher(\"\"\"\n",
    "CREATE CONSTRAINT unique_properties IF NOT EXISTS\n",
    "FOR (p:Property) REQUIRE p.id IS UNIQUE\n",
    "\"\"\")\n",
    "\n",
    "gds.run_cypher(\"\"\"\n",
    "CREATE CONSTRAINT unique_countries IF NOT EXISTS\n",
    "FOR (c:Country) REQUIRE c.name IS UNIQUE\n",
    "\"\"\")\n",
    "\n",
    "gds.run_cypher(\"\"\"\n",
    "CREATE CONSTRAINT unique_cities IF NOT EXISTS\n",
    "FOR (c:City) REQUIRE c.name IS UNIQUE\n",
    "\"\"\")\n",
    "\n",
    "gds.run_cypher(\"\"\"\n",
    "CREATE CONSTRAINT unique_property_types IF NOT EXISTS\n",
    "FOR (t:Type) REQUIRE t.type IS UNIQUE\n",
    "\"\"\")\n",
    "\n",
    "gds.run_cypher(\"\"\"\n",
    "CREATE CONSTRAINT unique_bookings IF NOT EXISTS\n",
    "FOR (b:Booking) REQUIRE b.booking_id IS UNIQUE\n",
    "\"\"\")\n",
    "\n",
    "gds.run_cypher(\"\"\"\n",
    "CREATE CONSTRAINT unique_weeks IF NOT EXISTS\n",
    "FOR (w:Week) REQUIRE w.week_num IS UNIQUE\n",
    "\"\"\")"
   ]
  },
  {
   "cell_type": "markdown",
   "metadata": {},
   "source": [
    "## Load property information\n",
    "Loop through the rows of the properties data (as a list of dictionaries) and\n",
    "- Create a node for each property in the graph database.\n",
    "- Set the capacity and pets_allowed attributes\n",
    "- Create the type, city, and country nodes if they do not already exist\n",
    "- Create relationships between the property and the type as well as the property and the city\n",
    "- Create relationships between the city and the country"
   ]
  },
  {
   "cell_type": "code",
   "execution_count": 105,
   "metadata": {},
   "outputs": [],
   "source": [
    "property_setup_query = \"\"\"\n",
    "UNWIND $properties AS property\n",
    "MERGE (p:Property {id: property.id})\n",
    "SET p.capacity = property.capacity\n",
    "SET p.pets_allowed = property.pets_allowed\n",
    "MERGE (t:Type {name: property.property_type})\n",
    "MERGE (ct:City {name: property.city})\n",
    "MERGE (c:Country {name: property.country})\n",
    "MERGE (p)-[:LOCATED_IN]->(ct)\n",
    "MERGE (ct)-[:LOCATED_IN]->(c)\n",
    "MERGE (p)-[:HAS_TYPE]->(t)\n",
    "\"\"\""
   ]
  },
  {
   "cell_type": "markdown",
   "metadata": {},
   "source": [
    "## Load the Bookings\n",
    "Loop through the bookings and\n",
    "- Find the property for the booking\n",
    "- Create the node for the booking\n",
    "- Set the year and booked_through properties\n",
    "- Create a node for the week if it doesn't already exist\n",
    "- Create a relationship between the booking and the property\n",
    "- Create a relationship between the booking and the week"
   ]
  },
  {
   "cell_type": "code",
   "execution_count": 114,
   "metadata": {},
   "outputs": [],
   "source": [
    "bookings_setup_query = \"\"\"\n",
    "UNWIND $bookings AS booking\n",
    "MATCH (p:Property {id: booking.property_id})\n",
    "MERGE (b:Booking {booking_id: booking.booking_id})\n",
    "SET b.year = booking.year\n",
    "SET b.booked_through = booking.booked_through\n",
    "MERGE (w:Week {week_num: booking.week_num})\n",
    "MERGE (b)-[:BOOKED_IN]->(w)\n",
    "MERGE (b)-[:BOOKED_AT]->(p)\n",
    "\"\"\""
   ]
  },
  {
   "cell_type": "code",
   "execution_count": 115,
   "metadata": {},
   "outputs": [],
   "source": [
    "# Convert dataframes to dictionaries\n",
    "property_data_dict = {\"properties\": properties.to_dict('records')}\n",
    "bookings_data_dict = {\"bookings\": bookings[['booking_id', 'booked_through', 'year', 'week_num', 'property_id']].to_dict('records')}"
   ]
  },
  {
   "cell_type": "code",
   "execution_count": 116,
   "metadata": {},
   "outputs": [
    {
     "data": {
      "text/html": [
       "<div>\n",
       "<style scoped>\n",
       "    .dataframe tbody tr th:only-of-type {\n",
       "        vertical-align: middle;\n",
       "    }\n",
       "\n",
       "    .dataframe tbody tr th {\n",
       "        vertical-align: top;\n",
       "    }\n",
       "\n",
       "    .dataframe thead th {\n",
       "        text-align: right;\n",
       "    }\n",
       "</style>\n",
       "<table border=\"1\" class=\"dataframe\">\n",
       "  <thead>\n",
       "    <tr style=\"text-align: right;\">\n",
       "      <th></th>\n",
       "    </tr>\n",
       "  </thead>\n",
       "  <tbody>\n",
       "  </tbody>\n",
       "</table>\n",
       "</div>"
      ],
      "text/plain": [
       "Empty DataFrame\n",
       "Columns: []\n",
       "Index: []"
      ]
     },
     "execution_count": 116,
     "metadata": {},
     "output_type": "execute_result"
    }
   ],
   "source": [
    "# Run the queries to load the data\n",
    "gds.run_cypher(property_setup_query, property_data_dict)\n",
    "gds.run_cypher(bookings_setup_query, bookings_data_dict)"
   ]
  },
  {
   "cell_type": "code",
   "execution_count": 118,
   "metadata": {},
   "outputs": [
    {
     "data": {
      "text/html": [
       "<div>\n",
       "<style scoped>\n",
       "    .dataframe tbody tr th:only-of-type {\n",
       "        vertical-align: middle;\n",
       "    }\n",
       "\n",
       "    .dataframe tbody tr th {\n",
       "        vertical-align: top;\n",
       "    }\n",
       "\n",
       "    .dataframe thead th {\n",
       "        text-align: right;\n",
       "    }\n",
       "</style>\n",
       "<table border=\"1\" class=\"dataframe\">\n",
       "  <thead>\n",
       "    <tr style=\"text-align: right;\">\n",
       "      <th></th>\n",
       "    </tr>\n",
       "  </thead>\n",
       "  <tbody>\n",
       "  </tbody>\n",
       "</table>\n",
       "</div>"
      ],
      "text/plain": [
       "Empty DataFrame\n",
       "Columns: []\n",
       "Index: []"
      ]
     },
     "execution_count": 118,
     "metadata": {},
     "output_type": "execute_result"
    }
   ],
   "source": [
    "# Build relationships across weeks (cureent week to next week)\n",
    "gds.run_cypher(\"\"\"\n",
    "MATCH (w:Week)\n",
    "MATCH (w_p: Week)\n",
    "WHERE w.week_num = w_p.week_num - 1\n",
    "MERGE (w)-[:PRECEDES]->(w_p)\n",
    "\"\"\")\n",
    "\n",
    "# Account for edge case of end of year to complete the loop\n",
    "gds.run_cypher(\"\"\"\n",
    "MATCH (w:Week)\n",
    "MATCH (w_p: Week)\n",
    "WHERE w.week_num = 52 AND w_p.week_num = 1\n",
    "MERGE (w)-[:PRECEDES]->(w_p)\n",
    "\"\"\")"
   ]
  },
  {
   "cell_type": "code",
   "execution_count": 5,
   "metadata": {},
   "outputs": [
    {
     "data": {
      "text/html": [
       "<div>\n",
       "<style scoped>\n",
       "    .dataframe tbody tr th:only-of-type {\n",
       "        vertical-align: middle;\n",
       "    }\n",
       "\n",
       "    .dataframe tbody tr th {\n",
       "        vertical-align: top;\n",
       "    }\n",
       "\n",
       "    .dataframe thead th {\n",
       "        text-align: right;\n",
       "    }\n",
       "</style>\n",
       "<table border=\"1\" class=\"dataframe\">\n",
       "  <thead>\n",
       "    <tr style=\"text-align: right;\">\n",
       "      <th></th>\n",
       "    </tr>\n",
       "  </thead>\n",
       "  <tbody>\n",
       "  </tbody>\n",
       "</table>\n",
       "</div>"
      ],
      "text/plain": [
       "Empty DataFrame\n",
       "Columns: []\n",
       "Index: []"
      ]
     },
     "execution_count": 5,
     "metadata": {},
     "output_type": "execute_result"
    }
   ],
   "source": [
    "# Create Train/Test Split (Separate using year such that all of 2024 is the holdout period)\n",
    "gds.run_cypher(\"\"\"\n",
    "MATCH (p:Property)-[:BOOKED_AT]->(b:Booking)-[:BOOKED_IN]->(w:Week)\n",
    "WHERE b.year < 2024\n",
    "MERGE (p)-[:TRAIN_BOOKING]->(b)-[:TRAIN_BOOKING]->(w)\n",
    "\"\"\")\n",
    "\n",
    "gds.run_cypher(\"\"\"\n",
    "MATCH (p:Property)-[:BOOKED_AT]->(b:Booking)-[:BOOKED_IN]->(w:Week)\n",
    "WHERE b.year >= 2024\n",
    "MERGE (p)-[:HOLDOUT_BOOKING]->(b)-[:HOLDOUT_BOOKING]->(w)\n",
    "\"\"\")"
   ]
  },
  {
   "cell_type": "code",
   "execution_count": null,
   "metadata": {},
   "outputs": [],
   "source": []
  }
 ],
 "metadata": {
  "kernelspec": {
   "display_name": ".venv",
   "language": "python",
   "name": "python3"
  },
  "language_info": {
   "codemirror_mode": {
    "name": "ipython",
    "version": 3
   },
   "file_extension": ".py",
   "mimetype": "text/x-python",
   "name": "python",
   "nbconvert_exporter": "python",
   "pygments_lexer": "ipython3",
   "version": "3.11.9"
  }
 },
 "nbformat": 4,
 "nbformat_minor": 2
}
